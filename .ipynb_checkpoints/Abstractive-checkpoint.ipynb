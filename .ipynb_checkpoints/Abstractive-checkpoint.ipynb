{
 "cells": [
  {
   "cell_type": "code",
   "execution_count": 1,
   "id": "15b1a4b0-f2b8-43f9-9565-861f194b1aeb",
   "metadata": {},
   "outputs": [
    {
     "data": {
      "application/vnd.jupyter.widget-view+json": {
       "model_id": "2cafd6de96d54c728a58f9ef79519f71",
       "version_major": 2,
       "version_minor": 0
      },
      "text/plain": [
       "config.json:   0%|          | 0.00/1.21k [00:00<?, ?B/s]"
      ]
     },
     "metadata": {},
     "output_type": "display_data"
    },
    {
     "name": "stderr",
     "output_type": "stream",
     "text": [
      "C:\\Users\\banda\\AppData\\Local\\Programs\\Python\\Python311\\Lib\\site-packages\\huggingface_hub\\file_download.py:139: UserWarning: `huggingface_hub` cache-system uses symlinks by default to efficiently store duplicated files but your machine does not support them in C:\\Users\\banda\\.cache\\huggingface\\hub\\models--t5-small. Caching files will still work but in a degraded version that might require more space on your disk. This warning can be disabled by setting the `HF_HUB_DISABLE_SYMLINKS_WARNING` environment variable. For more details, see https://huggingface.co/docs/huggingface_hub/how-to-cache#limitations.\n",
      "To support symlinks on Windows, you either need to activate Developer Mode or to run Python as an administrator. In order to activate developer mode, see this article: https://docs.microsoft.com/en-us/windows/apps/get-started/enable-your-device-for-development\n",
      "  warnings.warn(message)\n"
     ]
    },
    {
     "name": "stdout",
     "output_type": "stream",
     "text": [
      "WARNING:tensorflow:From C:\\Users\\banda\\AppData\\Local\\Programs\\Python\\Python311\\Lib\\site-packages\\tf_keras\\src\\losses.py:2976: The name tf.losses.sparse_softmax_cross_entropy is deprecated. Please use tf.compat.v1.losses.sparse_softmax_cross_entropy instead.\n",
      "\n"
     ]
    },
    {
     "data": {
      "application/vnd.jupyter.widget-view+json": {
       "model_id": "2c1e40fd6c8d46989888bb9922a354e7",
       "version_major": 2,
       "version_minor": 0
      },
      "text/plain": [
       "model.safetensors:   0%|          | 0.00/242M [00:00<?, ?B/s]"
      ]
     },
     "metadata": {},
     "output_type": "display_data"
    },
    {
     "name": "stderr",
     "output_type": "stream",
     "text": [
      "Error while downloading from https://cdn-lfs.hf.co/t5-small/bd944e5f1b3ad9b70dd9d00010a517059e19265671076b8b0a4a58d9491842bc?response-content-disposition=inline%3B+filename*%3DUTF-8%27%27model.safetensors%3B+filename%3D%22model.safetensors%22%3B&Expires=1739857814&Policy=eyJTdGF0ZW1lbnQiOlt7IkNvbmRpdGlvbiI6eyJEYXRlTGVzc1RoYW4iOnsiQVdTOkVwb2NoVGltZSI6MTczOTg1NzgxNH19LCJSZXNvdXJjZSI6Imh0dHBzOi8vY2RuLWxmcy5oZi5jby90NS1zbWFsbC9iZDk0NGU1ZjFiM2FkOWI3MGRkOWQwMDAxMGE1MTcwNTllMTkyNjU2NzEwNzZiOGIwYTRhNThkOTQ5MTg0MmJjP3Jlc3BvbnNlLWNvbnRlbnQtZGlzcG9zaXRpb249KiJ9XX0_&Signature=Det7mOEOpRqz9W-1NIKHdMdrm9Hv17mwmBTyCK2yxlrJtcGAANA4bvLDIqO2e7TDZrETRQCyiz72B4OJqIX2%7ELNIwyc-7z7d6rUgHAaik98C3KwzXVwM6012CorwMMUxF2rH-XGejHI5XdHKNC81w0Kn8AMxE-I5unfNfufkr3k9H2VSLh7JUXPWSFyXdZA9hWBwnAbD9luadYOJfusYepVxBn1w3IUsIK-uxoVs6BW6beUBAR-kx0Rf%7EGN2Or3QYOLGFzeqIWJwl1TtqHoBaNimExCkPGt7AkS2FmMo9jsevPTXVmB8f%7ErBfhiWh3NoVc8M7IOVhFhQPsUblSqxtA__&Key-Pair-Id=K3RPWS32NSSJCE: HTTPSConnectionPool(host='cdn-lfs.hf.co', port=443): Read timed out.\n",
      "Trying to resume download...\n"
     ]
    },
    {
     "data": {
      "application/vnd.jupyter.widget-view+json": {
       "model_id": "7ff2f0fefa4e48798c47eeeacdfc3a05",
       "version_major": 2,
       "version_minor": 0
      },
      "text/plain": [
       "model.safetensors:   4%|4         | 10.5M/242M [00:00<?, ?B/s]"
      ]
     },
     "metadata": {},
     "output_type": "display_data"
    },
    {
     "data": {
      "application/vnd.jupyter.widget-view+json": {
       "model_id": "362f88b9823d4ae39e1f3793d623e9cf",
       "version_major": 2,
       "version_minor": 0
      },
      "text/plain": [
       "generation_config.json:   0%|          | 0.00/147 [00:00<?, ?B/s]"
      ]
     },
     "metadata": {},
     "output_type": "display_data"
    },
    {
     "data": {
      "application/vnd.jupyter.widget-view+json": {
       "model_id": "4363d290915145ebb49e07fefefa449b",
       "version_major": 2,
       "version_minor": 0
      },
      "text/plain": [
       "tokenizer_config.json:   0%|          | 0.00/2.32k [00:00<?, ?B/s]"
      ]
     },
     "metadata": {},
     "output_type": "display_data"
    },
    {
     "data": {
      "application/vnd.jupyter.widget-view+json": {
       "model_id": "96fee5c8617f41eb8548fddaa442474c",
       "version_major": 2,
       "version_minor": 0
      },
      "text/plain": [
       "spiece.model:   0%|          | 0.00/792k [00:00<?, ?B/s]"
      ]
     },
     "metadata": {},
     "output_type": "display_data"
    },
    {
     "data": {
      "application/vnd.jupyter.widget-view+json": {
       "model_id": "84de703ec33f4899986a44931f94c63f",
       "version_major": 2,
       "version_minor": 0
      },
      "text/plain": [
       "tokenizer.json:   0%|          | 0.00/1.39M [00:00<?, ?B/s]"
      ]
     },
     "metadata": {},
     "output_type": "display_data"
    }
   ],
   "source": [
    "from transformers import pipeline\n",
    "\n",
    "# Load T5 model for summarization\n",
    "summarizer = pipeline(\"summarization\", model=\"t5-small\")\n",
    "\n",
    "def abstractive_summary(text):\n",
    "    summary = summarizer(text, max_length=150, min_length=30, do_sample=False)\n",
    "    return summary[0]['summary_text']\n",
    "\n"
   ]
  },
  {
   "cell_type": "code",
   "execution_count": 4,
   "id": "20efea24-a635-4ab2-ab0e-577c96723432",
   "metadata": {},
   "outputs": [
    {
     "name": "stdout",
     "output_type": "stream",
     "text": [
      "the match between the two Asian teams is scheduled to take place in the ICC Champions Trophy 2025 on friday, February 20 . if India qualifies for it, the final will also take place at the same venue on march 2 .\n"
     ]
    }
   ],
   "source": [
    "# Example usage\n",
    "text = \"Morkel’s absence is a setback for India. The Indian team is set to start its campaign in the ICC Champions Trophy 2025 on Thursday, February 20, against Bangladesh in Dubai. The match between the two Asian teams is scheduled to take place at Dubai International Cricket Stadium.Pakistan is the host nation of the Champions Trophy 2025, but due to tense political relations between India and Pakistan, India refused to travel to Pakistan last year, after which the ICC moved its matches to Dubai.The high-voltage match between India and Pakistan in the Champions Trophy 2025 is scheduled to take place in Dubai on Sunday (February 23), and in its third Group A match, India will face New Zealand at the same venue on March 2. The first semifinal will be played in Dubai on March 4, and the final, if India qualifies for it, will also take place at Dubai International Cricket Stadium on March 9.The 10th edition of the Champions Trophy, which is making a comeback after eight years, will start on Wednesday, February 19, with a match between defending champions Pakistan and New Zealand at National Stadium in Karachi. In addition to Dubai and Karachi, Gaddafi Stadium in Lahore and Rawalpindi Cricket Stadium in Rawalpindi will also host the Champions Trophy matches, which will be played between eight teams.\"\n",
    "summary = abstractive_summary(text)\n",
    "print(summary)"
   ]
  },
  {
   "cell_type": "code",
   "execution_count": null,
   "id": "4f2deb36-93cc-4186-95f4-1ce87de2c475",
   "metadata": {},
   "outputs": [],
   "source": []
  }
 ],
 "metadata": {
  "kernelspec": {
   "display_name": "Python 3 (ipykernel)",
   "language": "python",
   "name": "python3"
  },
  "language_info": {
   "codemirror_mode": {
    "name": "ipython",
    "version": 3
   },
   "file_extension": ".py",
   "mimetype": "text/x-python",
   "name": "python",
   "nbconvert_exporter": "python",
   "pygments_lexer": "ipython3",
   "version": "3.11.4"
  }
 },
 "nbformat": 4,
 "nbformat_minor": 5
}
