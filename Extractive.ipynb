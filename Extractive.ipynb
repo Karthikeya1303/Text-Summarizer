{
 "cells": [
  {
   "cell_type": "code",
   "execution_count": 2,
   "id": "8b78fda3-96c0-4475-9692-fe9f1ced73ec",
   "metadata": {},
   "outputs": [
    {
     "name": "stdout",
     "output_type": "stream",
     "text": [
      "Collecting nltk"
     ]
    },
    {
     "name": "stderr",
     "output_type": "stream",
     "text": [
      "\n",
      "[notice] A new release of pip is available: 24.3.1 -> 25.0.1\n",
      "[notice] To update, run: python.exe -m pip install --upgrade pip\n"
     ]
    },
    {
     "name": "stdout",
     "output_type": "stream",
     "text": [
      "\n",
      "  Downloading nltk-3.9.1-py3-none-any.whl.metadata (2.9 kB)\n",
      "Collecting click (from nltk)\n",
      "  Downloading click-8.1.8-py3-none-any.whl.metadata (2.3 kB)\n",
      "Requirement already satisfied: joblib in c:\\users\\banda\\appdata\\local\\programs\\python\\python311\\lib\\site-packages (from nltk) (1.4.2)\n",
      "Requirement already satisfied: regex>=2021.8.3 in c:\\users\\banda\\appdata\\local\\programs\\python\\python311\\lib\\site-packages (from nltk) (2024.9.11)\n",
      "Requirement already satisfied: tqdm in c:\\users\\banda\\appdata\\local\\programs\\python\\python311\\lib\\site-packages (from nltk) (4.66.5)\n",
      "Requirement already satisfied: colorama in c:\\users\\banda\\appdata\\local\\programs\\python\\python311\\lib\\site-packages (from click->nltk) (0.4.6)\n",
      "Downloading nltk-3.9.1-py3-none-any.whl (1.5 MB)\n",
      "   ---------------------------------------- 0.0/1.5 MB ? eta -:--:--\n",
      "   ---------------------------------------- 0.0/1.5 MB ? eta -:--:--\n",
      "   ---------------------------------------- 0.0/1.5 MB ? eta -:--:--\n",
      "   ---------------------------------------- 0.0/1.5 MB ? eta -:--:--\n",
      "   ---------------------------------------- 0.0/1.5 MB ? eta -:--:--\n",
      "   ---------------------------------------- 0.0/1.5 MB ? eta -:--:--\n",
      "   ---------------------------------------- 0.0/1.5 MB ? eta -:--:--\n",
      "   ---------------------------------------- 0.0/1.5 MB ? eta -:--:--\n",
      "   ---------------------------------------- 0.0/1.5 MB ? eta -:--:--\n",
      "   ---------------------------------------- 0.0/1.5 MB ? eta -:--:--\n",
      "   ---------------------------------------- 0.0/1.5 MB ? eta -:--:--\n",
      "   ---------------------------------------- 0.0/1.5 MB ? eta -:--:--\n",
      "   ---------------------------------------- 0.0/1.5 MB ? eta -:--:--\n",
      "   ---------------------------------------- 0.0/1.5 MB ? eta -:--:--\n",
      "   ---------------------------------------- 0.0/1.5 MB ? eta -:--:--\n",
      "   ------ --------------------------------- 0.3/1.5 MB ? eta -:--:--\n",
      "   ------ --------------------------------- 0.3/1.5 MB ? eta -:--:--\n",
      "   ------ --------------------------------- 0.3/1.5 MB ? eta -:--:--\n",
      "   ------ --------------------------------- 0.3/1.5 MB ? eta -:--:--\n",
      "   ------ --------------------------------- 0.3/1.5 MB ? eta -:--:--\n",
      "   ------ --------------------------------- 0.3/1.5 MB ? eta -:--:--\n",
      "   ------ --------------------------------- 0.3/1.5 MB ? eta -:--:--\n",
      "   ------ --------------------------------- 0.3/1.5 MB ? eta -:--:--\n",
      "   ------ --------------------------------- 0.3/1.5 MB ? eta -:--:--\n",
      "   ------ --------------------------------- 0.3/1.5 MB ? eta -:--:--\n",
      "   ------------- -------------------------- 0.5/1.5 MB 118.1 kB/s eta 0:00:09\n",
      "   ------------- -------------------------- 0.5/1.5 MB 118.1 kB/s eta 0:00:09\n",
      "   ------------- -------------------------- 0.5/1.5 MB 118.1 kB/s eta 0:00:09\n",
      "   ------------- -------------------------- 0.5/1.5 MB 118.1 kB/s eta 0:00:09\n",
      "   -------------------- ------------------- 0.8/1.5 MB 171.2 kB/s eta 0:00:05\n",
      "   -------------------- ------------------- 0.8/1.5 MB 171.2 kB/s eta 0:00:05\n",
      "   -------------------- ------------------- 0.8/1.5 MB 171.2 kB/s eta 0:00:05\n",
      "   -------------------- ------------------- 0.8/1.5 MB 171.2 kB/s eta 0:00:05\n",
      "   -------------------- ------------------- 0.8/1.5 MB 171.2 kB/s eta 0:00:05\n",
      "   -------------------- ------------------- 0.8/1.5 MB 171.2 kB/s eta 0:00:05\n",
      "   -------------------- ------------------- 0.8/1.5 MB 171.2 kB/s eta 0:00:05\n",
      "   -------------------- ------------------- 0.8/1.5 MB 171.2 kB/s eta 0:00:05\n",
      "   -------------------- ------------------- 0.8/1.5 MB 171.2 kB/s eta 0:00:05\n",
      "   -------------------- ------------------- 0.8/1.5 MB 171.2 kB/s eta 0:00:05\n",
      "   -------------------- ------------------- 0.8/1.5 MB 171.2 kB/s eta 0:00:05\n",
      "   --------------------------- ------------ 1.0/1.5 MB 145.0 kB/s eta 0:00:04\n",
      "   --------------------------- ------------ 1.0/1.5 MB 145.0 kB/s eta 0:00:04\n",
      "   --------------------------- ------------ 1.0/1.5 MB 145.0 kB/s eta 0:00:04\n",
      "   --------------------------- ------------ 1.0/1.5 MB 145.0 kB/s eta 0:00:04\n",
      "   --------------------------- ------------ 1.0/1.5 MB 145.0 kB/s eta 0:00:04\n",
      "   --------------------------- ------------ 1.0/1.5 MB 145.0 kB/s eta 0:00:04\n",
      "   --------------------------- ------------ 1.0/1.5 MB 145.0 kB/s eta 0:00:04\n",
      "   --------------------------- ------------ 1.0/1.5 MB 145.0 kB/s eta 0:00:04\n",
      "   --------------------------- ------------ 1.0/1.5 MB 145.0 kB/s eta 0:00:04\n",
      "   --------------------------- ------------ 1.0/1.5 MB 145.0 kB/s eta 0:00:04\n",
      "   --------------------------- ------------ 1.0/1.5 MB 145.0 kB/s eta 0:00:04\n",
      "   --------------------------- ------------ 1.0/1.5 MB 145.0 kB/s eta 0:00:04\n",
      "   --------------------------- ------------ 1.0/1.5 MB 145.0 kB/s eta 0:00:04\n",
      "   ---------------------------------- ----- 1.3/1.5 MB 128.5 kB/s eta 0:00:02\n",
      "   ---------------------------------- ----- 1.3/1.5 MB 128.5 kB/s eta 0:00:02\n",
      "   ---------------------------------- ----- 1.3/1.5 MB 128.5 kB/s eta 0:00:02\n",
      "   ---------------------------------- ----- 1.3/1.5 MB 128.5 kB/s eta 0:00:02\n",
      "   ---------------------------------- ----- 1.3/1.5 MB 128.5 kB/s eta 0:00:02\n",
      "   ---------------------------------- ----- 1.3/1.5 MB 128.5 kB/s eta 0:00:02\n",
      "   ---------------------------------------- 1.5/1.5 MB 131.5 kB/s eta 0:00:00\n",
      "Downloading click-8.1.8-py3-none-any.whl (98 kB)\n",
      "Installing collected packages: click, nltk\n",
      "Successfully installed click-8.1.8 nltk-3.9.1\n"
     ]
    }
   ],
   "source": [
    "!pip install nltk"
   ]
  },
  {
   "cell_type": "code",
   "execution_count": 9,
   "id": "cf2232e6-89a0-46d1-9f96-e5a04d374b0a",
   "metadata": {},
   "outputs": [
    {
     "name": "stderr",
     "output_type": "stream",
     "text": [
      "[nltk_data] Downloading package punkt to\n",
      "[nltk_data]     C:\\Users\\banda\\AppData\\Roaming\\nltk_data...\n",
      "[nltk_data]   Package punkt is already up-to-date!\n",
      "[nltk_data] Downloading package stopwords to\n",
      "[nltk_data]     C:\\Users\\banda\\AppData\\Roaming\\nltk_data...\n",
      "[nltk_data]   Package stopwords is already up-to-date!\n",
      "[nltk_data] Downloading package punkt_tab to\n",
      "[nltk_data]     C:\\Users\\banda\\AppData\\Roaming\\nltk_data...\n",
      "[nltk_data]   Unzipping tokenizers\\punkt_tab.zip.\n"
     ]
    },
    {
     "data": {
      "text/plain": [
       "True"
      ]
     },
     "execution_count": 9,
     "metadata": {},
     "output_type": "execute_result"
    }
   ],
   "source": [
    "import nltk\n",
    "import heapq\n",
    "import re\n",
    "from nltk.tokenize import sent_tokenize, word_tokenize\n",
    "from nltk.corpus import stopwords\n",
    "\n",
    "nltk.download('punkt')\n",
    "nltk.download('stopwords')\n",
    "nltk.download('punkt_tab')"
   ]
  },
  {
   "cell_type": "code",
   "execution_count": 10,
   "id": "eeb7c744-0041-4b36-8ee6-66adcbd048cd",
   "metadata": {},
   "outputs": [],
   "source": [
    "def extractive_summary(text, num_sentences=3):\n",
    "    stop_words = set(stopwords.words(\"english\"))\n",
    "    words = word_tokenize(text)\n",
    "    \n",
    "    # Calculate word frequencies\n",
    "    word_frequencies = {}\n",
    "    for word in words:\n",
    "        if word.lower() not in stop_words:\n",
    "            word_frequencies[word] = word_frequencies.get(word, 0) + 1\n",
    "\n",
    "    # Normalize word frequencies\n",
    "    max_freq = max(word_frequencies.values())\n",
    "    for word in word_frequencies:\n",
    "        word_frequencies[word] /= max_freq\n",
    "\n",
    "    # Score sentences based on word frequencies\n",
    "    sentence_list = sent_tokenize(text)\n",
    "    sentence_scores = {}\n",
    "    for sent in sentence_list:\n",
    "        for word in word_tokenize(sent.lower()):\n",
    "            if word in word_frequencies:\n",
    "                sentence_scores[sent] = sentence_scores.get(sent, 0) + word_frequencies[word]\n",
    "\n",
    "    # Get the top-ranked sentences\n",
    "    summary_sentences = heapq.nlargest(num_sentences, sentence_scores, key=sentence_scores.get)\n",
    "    return ' '.join(summary_sentences)\n"
   ]
  },
  {
   "cell_type": "code",
   "execution_count": 11,
   "id": "6786934f-1dc2-4753-88c7-bdfb26c616cc",
   "metadata": {},
   "outputs": [
    {
     "name": "stdout",
     "output_type": "stream",
     "text": [
      "The Indian team is set to start its campaign in the ICC Champions Trophy 2025 on Thursday, February 20, against Bangladesh in Dubai. The match between the two Asian teams is scheduled to take place at Dubai International Cricket Stadium. Morkel’s absence is a setback for India.\n"
     ]
    }
   ],
   "source": [
    "# Example usage\n",
    "text = \"Morkel’s absence is a setback for India. The Indian team is set to start its campaign in the ICC Champions Trophy 2025 on Thursday, February 20, against Bangladesh in Dubai. The match between the two Asian teams is scheduled to take place at Dubai International Cricket Stadium.\"\n",
    "summary = extractive_summary(text)\n",
    "print(summary)"
   ]
  },
  {
   "cell_type": "code",
   "execution_count": null,
   "id": "a57a9cb6-8b3e-4719-a72a-a7670594068f",
   "metadata": {},
   "outputs": [],
   "source": []
  }
 ],
 "metadata": {
  "kernelspec": {
   "display_name": "Python 3 (ipykernel)",
   "language": "python",
   "name": "python3"
  },
  "language_info": {
   "codemirror_mode": {
    "name": "ipython",
    "version": 3
   },
   "file_extension": ".py",
   "mimetype": "text/x-python",
   "name": "python",
   "nbconvert_exporter": "python",
   "pygments_lexer": "ipython3",
   "version": "3.11.4"
  }
 },
 "nbformat": 4,
 "nbformat_minor": 5
}
